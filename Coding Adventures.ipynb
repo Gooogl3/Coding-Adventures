{
 "cells": [
  {
   "cell_type": "markdown",
   "id": "2e1172bc",
   "metadata": {},
   "source": [
    "# Fib Sequence"
   ]
  },
  {
   "cell_type": "code",
   "execution_count": null,
   "id": "f26b61b6",
   "metadata": {},
   "outputs": [],
   "source": [
    "# The Fib sequence is defined as followed. Define a function that returns the nth Fib number\n",
    "\n",
    "def Fib (n):\n",
    "    if n == 1:\n",
    "        return 0\n",
    "    if n <=3:\n",
    "        return 1\n",
    "    \n",
    "    return Fib(n-1)+Fib(n-2)\n",
    "def CALC(n,calculated={1:0,2:1,3:1}):\n",
    "    if n in calculated:\n",
    "        return calculated[n]\n",
    "    calculated[n] = CALC(n-1,calculated)+CALC(n-2,calculated)\n",
    "    return calculated[n]"
   ]
  },
  {
   "cell_type": "markdown",
   "id": "36f47392",
   "metadata": {},
   "source": [
    "# River Sizes"
   ]
  },
  {
   "cell_type": "code",
   "execution_count": null,
   "id": "8ef62dc9",
   "metadata": {},
   "outputs": [],
   "source": [
    "# You are given a two-dimentional array(matrix) of potentially unequal heights and eidth containing only 0s and 1s. \n",
    "# Each 0 represents land and each 1 represents part of a river. \n",
    "# A river consists of any number of 1s that are either horizontally or vertically adjacent (but not diagonally adjacent). \n",
    "# The number of adjacent 1s forming a river determin its size. \n",
    "# Write a function that returns an array of the sizes of all rivers representd in the input matrix. \n",
    "# Note that these sizes do not need to be in any particular order.\n",
    "# Depth per search\n",
    "# (Row, Column)\n",
    "def riversizes(matrix):\n",
    "    marked = set()\n",
    "    rivers = []\n",
    "    # Looping through the matrix\n",
    "    for row in range(len(matrix)):\n",
    "        for col in range(len(matrix[row])):\n",
    "    # Searching through the matrix and adding values into our dictionary\n",
    "            if matrix[row][col] == 1 and (row,col) not in marked:\n",
    "                cur_river_len = 1\n",
    "                marked.add((row,col))\n",
    "                stack = [(row,col)]\n",
    "                \n",
    "                while stack:\n",
    "                    current = stack.pop()\n",
    "                    neighbors = get_neighbors(current,matrix)\n",
    "                    for n in neighbors:\n",
    "                        y,x = n\n",
    "                        if matrix[y][x] == 1 and (y,x) not in marked:\n",
    "                            mark.add((y,x))\n",
    "                            cur_river_len +=1\n",
    "                            stack.append((y,x))\n",
    "                            \n",
    "                rivers.append(cur_river_len )\n",
    "    return rivers\n",
    "def get_neighbors(pos,matrix):\n",
    "    y,x = pos\n",
    "    ns = []\n",
    "    if x >=1:\n",
    "        ns.append((y,x-1))\n",
    "    if x < len(matrix[0]-1):\n",
    "        ns.append((y,x+1))\n",
    "    if y >= 1:\n",
    "        ns.append((y-1,x))\n",
    "    if y < len(matrix-1):\n",
    "        ns.append((y+1,x))\n",
    "    return ns\n"
   ]
  },
  {
   "cell_type": "markdown",
   "id": "5a184ade",
   "metadata": {},
   "source": [
    "# Largest Range of Consequective Numbers"
   ]
  },
  {
   "cell_type": "code",
   "execution_count": null,
   "id": "e171e559",
   "metadata": {},
   "outputs": [],
   "source": [
    "# Write a function that takes in an array of integers and returns an array of length 2 representing the largest range of numbers\n",
    "# contained in that array. The frist number in the output array should be the first number in the range while\n",
    "# the second number should be tha last number in the range. A range of numbers is defined as a set of numbers that \n",
    "# come right after each other in the set of real integers. For instance the output array [2,6] represents the range\n",
    "# {2,3,4,5,6}, which is a range of length 5. Note that numbers do not need to be ordered or adjacent in the array in order \n",
    "# to for a range. Assume that there will only be one largest range.\n",
    "\n",
    "def largestRange(array):\n",
    "    numbers = {x:0 for x in array}\n",
    "    left = right = 0\n",
    "    \n",
    "    for number in array:\n",
    "        if numbers[number] == 0:\n",
    "            left_count = number -1\n",
    "            right_count = number + 1\n",
    "            \n",
    "            while left_count in numbers: # O(1) time\n",
    "                numbers[left_count] = 1\n",
    "                left_count -= 1\n",
    "            left_count += 1\n",
    "            \n",
    "            while right_count in numbers: \n",
    "                numbers[right_count] = 1\n",
    "                right_count += 1\n",
    "            right_count -= 1\n",
    "            \n",
    "            if (right - left) <= (right_count - left_count):\n",
    "                right = right_count\n",
    "                left = left_count\n",
    "                \n",
    "    return[left, right]"
   ]
  },
  {
   "cell_type": "markdown",
   "id": "52487c36",
   "metadata": {},
   "source": [
    "# Print Prime Numbers between 100 and 200"
   ]
  },
  {
   "cell_type": "code",
   "execution_count": null,
   "id": "6c3900a0",
   "metadata": {},
   "outputs": [],
   "source": [
    "for num in range(100,200):\n",
    "    if all(num%i!=0 for i in range (2,num)):\n",
    "        print(num)"
   ]
  },
  {
   "cell_type": "markdown",
   "id": "47f68ebb",
   "metadata": {},
   "source": [
    "# Write a Sort function to sort the elements in a list"
   ]
  },
  {
   "cell_type": "code",
   "execution_count": null,
   "id": "df853cc8",
   "metadata": {},
   "outputs": [],
   "source": [
    "import random\n",
    "l = []\n",
    "for i in range(0,5):\n",
    "    n = random.randint(1,30)\n",
    "    l.append(n)\n",
    "l.sort(reverse = True)\n",
    "print(l)\n",
    "l.sort(reverse = False)\n",
    "print(l)\n",
    "\n",
    "# Sorting in Reverse without using Sort function\n",
    "\n",
    "new_list=[]\n",
    "while l:\n",
    "    minimum = l[0]\n",
    "    for x in l:\n",
    "        if x > minimum:\n",
    "            minimum = x\n",
    "    new_list.append(minimum)\n",
    "    l.remove(minimum)\n",
    "print(new_list)\n",
    "\n",
    "# printing a list in reverse\n",
    "def reverse(list):\n",
    "    return list[::-1]"
   ]
  },
  {
   "cell_type": "markdown",
   "id": "4edc7bbc",
   "metadata": {},
   "source": [
    "# Palindrome"
   ]
  },
  {
   "cell_type": "code",
   "execution_count": null,
   "id": "334bc57c",
   "metadata": {},
   "outputs": [],
   "source": [
    "# Write a program that checks if a string is a palindrome\n",
    "def isPalindrome(string):\n",
    "    rev = ''.join(reversed(string))\n",
    "    if (string == rev):\n",
    "        return True\n",
    "    return False\n",
    "isPalindrome(\"doggod\")"
   ]
  },
  {
   "cell_type": "markdown",
   "id": "97f9cfcf",
   "metadata": {},
   "source": [
    "# QR Code"
   ]
  },
  {
   "cell_type": "code",
   "execution_count": null,
   "id": "3fc555eb",
   "metadata": {},
   "outputs": [],
   "source": [
    "import qrcode\n",
    "data = 'Subscribe!'\n",
    "img = qrcode.make(data)\n",
    "img.save(r\"\\\\Neptune\\Users\\jni\\myqrcode.png\")\n",
    "\n",
    "qr = qrcode.QRCode(version = 1, box_size = 10, border = 5)\n",
    "qr.add_data(data)\n",
    "qr.make(fit = True)\n",
    "img = qr.make_image(fill_color = 'red', back_color = 'white')\n",
    "img.save(r\"\\\\Neptune\\Users\\jni\\myqrcode1.png\")\n"
   ]
  },
  {
   "cell_type": "markdown",
   "id": "80d9b448",
   "metadata": {},
   "source": [
    "# Countdown Timer"
   ]
  },
  {
   "cell_type": "code",
   "execution_count": 1,
   "id": "e27c7454",
   "metadata": {},
   "outputs": [
    {
     "name": "stdout",
     "output_type": "stream",
     "text": [
      "Enter the time in seconds: 64\n",
      "We did it boys!\n"
     ]
    }
   ],
   "source": [
    "import time\n",
    "\n",
    "def countdown(seconds):\n",
    "    while seconds :\n",
    "        mins, secs = divmod(seconds, 60)\n",
    "        timer = '{:02d}:{:02d}'.format(mins,secs)\n",
    "        print(timer, end = \"\\r\")\n",
    "        time.sleep(1)\n",
    "        seconds -= 1\n",
    "    print('We did it boys!')\n",
    "    \n",
    "count = input('Enter the time in seconds: ')\n",
    "\n",
    "countdown(int(count))"
   ]
  },
  {
   "cell_type": "markdown",
   "id": "e98bb2fb",
   "metadata": {},
   "source": [
    "# Guessing Game"
   ]
  },
  {
   "cell_type": "code",
   "execution_count": null,
   "id": "c32889b3",
   "metadata": {},
   "outputs": [],
   "source": [
    "import random\n",
    "n = random.randint(1, 99)\n",
    "guess = int(input(\"Enter an integer from 1 to 99: \"))\n",
    "while n != \"guess\":\n",
    "    print\n",
    "    if guess < n:\n",
    "        print(\"guess is low\")\n",
    "        guess = int(input(\"Enter an integer from 1 to 99: \"))\n",
    "    elif guess > n:\n",
    "        print(\"guess is high\")\n",
    "        guess = int(input(\"Enter an integer from 1 to 99: \"))\n",
    "    else:\n",
    "        print(\"you guessed it!\")\n",
    "        break\n",
    "    print\n"
   ]
  },
  {
   "cell_type": "markdown",
   "id": "22a251b7",
   "metadata": {},
   "source": [
    "# Text based Puzzle Game"
   ]
  },
  {
   "cell_type": "code",
   "execution_count": null,
   "id": "1dc29fd1",
   "metadata": {},
   "outputs": [],
   "source": [
    "def start():\n",
    "  # give some prompts.\n",
    "    input(\"\\n Man Dolphin is bacK!.\")\n",
    "    print(\"Man Dolphin made cookies as a peace offering. Do you accept or decline?  (a or d)\")\n",
    "  \n",
    "  # convert the player's input() to lower_case\n",
    "    answer = input(\">\").lower()\n",
    "\n",
    "    if \"a\" in answer:\n",
    "    # if player typed \"left\" or \"a\" lead him to game_over()\n",
    "        game_over(\"You have been poisoned by Man Dolphin.\")\n",
    "    elif \"d\" in answer:\n",
    "    # else if player typed \"right\" or \"d\" lead him to decline_cookie()\n",
    "        decline_cookie()\n",
    "    else:\n",
    "    # else call game_over() function with the \"reason\" argument\n",
    "        game_over(\"Don't you know how to type something properly?\")\n",
    "\n",
    "\n",
    "def decline_cookie():  \n",
    "    print(\"\\n Man Dolphin is sorry for killing you.\")\n",
    "    print(\"Do you accept or decling his apology?  (a or d)\")\n",
    "  \n",
    "  # convert the player's input() to lower_case\n",
    "    answer = input(\">\").lower()\n",
    "  \n",
    "    if \"a\" in answer:\n",
    "        accept_apology()\n",
    "    elif \"d\" in answer:\n",
    "        game_over(\"Man Dolphin is offended and kills you.\")\n",
    "    else:\n",
    "    # else call game_over() function with the \"reason\" argument\n",
    "        game_over(\"Don't you know how to type something properly?\")  \n",
    "    \n",
    "def accept_apology():\n",
    "    print(\"\\n Man Dolphin has invited you to his birthday party.\")\n",
    "    print(\"Do you go or don't go?  (g or d)\")\n",
    "    answer = input(\">\").lower()\n",
    "  \n",
    "    if \"g\" in answer:\n",
    "        go_party()\n",
    "    elif \"d\" in answer:\n",
    "        game_over(\"Man Dolphin is offended and kills you.\")\n",
    "    else:\n",
    "    # else call game_over() function with the \"reason\" argument\n",
    "        game_over(\"Don't you know how to type something properly?\")    \n",
    "   \n",
    "\n",
    "def go_party():\n",
    "    print(\"\\n What do you choose to give Man Dolphin?.\")\n",
    "    print(\"Cake, Shirt, or book?  (c, s, or b)\")\n",
    "    answer = input(\">\").lower()\n",
    "  \n",
    "    if \"c\" in answer:\n",
    "        game_over(\"You got robbed at the cake store and died.\")\n",
    "    elif \"b\" in answer:\n",
    "        game_over(\"You forgot you didn't know how to read and went home crying.\")\n",
    "    elif \"s\" in answer:\n",
    "        shirt()\n",
    "    else:\n",
    "    # else call game_over() function with the \"reason\" argument\n",
    "        game_over(\"Don't you know how to type something properly?\") \n",
    "    \n",
    "def shirt():\n",
    "    print(\"\\n Man Dolphin doesn't like your gift.\")\n",
    "    print(\"Do you apologize or tell him get over himself?  (a or g)\")\n",
    "    answer = input(\">\").lower()\n",
    "  \n",
    "    if \"a\" in answer:\n",
    "        apologize()\n",
    "    elif \"g\" in answer:\n",
    "        game_over(\"Man Dolphin vanished you.\")\n",
    "    else:\n",
    "    # else call game_over() function with the \"reason\" argument\n",
    "        game_over(\"Don't you know how to type something properly?\")    \n",
    "   \n",
    "   \n",
    "def apologize():\n",
    "    print(\"\\n Man Dolphin demands you to get a better gift or else.\")\n",
    "    print(\"Do you refuse or RUN!!!? (d or r)\")\n",
    "    answer = input(\">\").lower()\n",
    "  \n",
    "    if \"d\" in answer:\n",
    "        game_over(\"Man Dolphin threw you in a pit of lava.\")\n",
    "    elif \"r\" in answer:\n",
    "        running_from_man_dolphin()\n",
    "    else:\n",
    "    # else call game_over() function with the \"reason\" argument\n",
    "        game_over(\"Don't you know how to type something properly?\")  \n",
    "\n",
    "def running_from_man_dolphin():\n",
    "    print(\"\\n Man Dolphin is now chasing you. You come across a maze.\")\n",
    "    print(\"Left or Right?  (l or r)\")\n",
    "    answer = input(\">\").lower()\n",
    "  \n",
    "    if \"l\" in answer:\n",
    "        left_maze()\n",
    "    elif \"r\" in answer:\n",
    "        game_over(\"You fell down a hill into a pit of spikes?\")\n",
    "    else:\n",
    "    # else call game_over() function with the \"reason\" argument\n",
    "        game_over(\"Don't you know how to type something properly?\")  \n",
    "    \n",
    "def left_maze():\n",
    "    input(\"\\n You take a left and come across Man Mantis.\")\n",
    "    print(\"Ignore or Ask for Help?  (i or a)\")\n",
    "    answer = input(\">\").lower()\n",
    "  \n",
    "    if \"i\" in answer:\n",
    "        game_over(\"To be Continued\")\n",
    "    elif \"a\" in answer:\n",
    "        game_over(\"To be Continued\")\n",
    "    else:\n",
    "    # else call game_over() function with the \"reason\" argument\n",
    "        game_over(\"Don't you know how to type something properly?\")  \n",
    "\n",
    "\n",
    "\n",
    "def game_over(reason):\n",
    "    # print the \"reason\" in a new line (\\n)\n",
    "    print(\"\\n\" + reason)\n",
    "    print(\"Game Over!\")\n",
    "  # ask player to play again or not by activating play_again() function\n",
    "    play_again()\n",
    "  # function to ask play again or not\n",
    "\n",
    "def play_again():\n",
    "    print(\"\\nDo you want to play again? (y or n)\")\n",
    "  \n",
    "  # convert the player's input to lower_case\n",
    "    answer = input(\">\").lower()\n",
    "\n",
    "    if \"y\" in answer:\n",
    "    # if player typed \"yes\" or \"y\" start the game from the beginning\n",
    "        start()\n",
    "    else:\n",
    "    # if user types anything besides \"yes\" or \"y\", exit() the program\n",
    "        exit()\n",
    "start()"
   ]
  },
  {
   "cell_type": "markdown",
   "id": "e96dab06",
   "metadata": {},
   "source": [
    "Riddle Game"
   ]
  },
  {
   "cell_type": "code",
   "execution_count": null,
   "id": "f271e586",
   "metadata": {},
   "outputs": [],
   "source": [
    "import time\n",
    "\n",
    "def start():\n",
    "  # give some prompts.\n",
    "    print(\"Welcome Player.\")\n",
    "    print(\"Do you wish to proceed? (y or n)\")\n",
    "    time.sleep(2)\n",
    "  # convert the player's input() to lower_case\n",
    "    answer = input(\">\").lower()\n",
    "\n",
    "    if \"y\" in answer:\n",
    "        question_1()\n",
    "    elif \"n\" in answer:\n",
    "    # else if player typed \"right\" or \"d\" lead him to decline_cookie()\n",
    "        game_over(\"Maybe next time\")\n",
    "    else:\n",
    "    # else call game_over() function with the \"reason\" argument\n",
    "        game_over(\"Don't you know how to type something properly?\")\n",
    "def game_over(reason):\n",
    "    # print the \"reason\" in a new line (\\n)\n",
    "    print(\"\\n\" + reason)\n",
    "    print(\"Game Over!\")\n",
    "  # ask player to play again or not by activating play_again() function\n",
    "    play_again()\n",
    "  # function to ask play again or not\n",
    "\n",
    "def play_again():\n",
    "    print(\"\\nDo you want to play again? (y or n)\")\n",
    "  # convert the player's input to lower_case\n",
    "    answer = input(\">\").lower()\n",
    "    if \"y\" in answer:\n",
    "    # if player typed \"yes\" or \"y\" start the game from the beginning\n",
    "        start()\n",
    "    else:\n",
    "    # if user types anything besides \"yes\" or \"y\", exit() the program\n",
    "        exit()\n",
    "\n",
    "def question_1():\n",
    "    print(\"\\nWhat is your name?\")\n",
    "    answer = input()\n",
    "    question_2()\n",
    "    \n",
    "def question_2():\n",
    "    print(\"\\n1+1=.\") \n",
    "    answer = input()\n",
    "    q2 = [\"2\", \"Two\", \"two\"]\n",
    "    if answer in q2:\n",
    "        question_3()\n",
    "    else:\n",
    "        question_2()\n",
    "        \n",
    "def question_3():\n",
    "    print(\"\\nBlue + Yellow =.\") \n",
    "    answer = input()\n",
    "    q3 = [\"Green\",\"green\"]\n",
    "    if answer in q3:\n",
    "        question_4()\n",
    "    else:\n",
    "        question_3()\n",
    "        \n",
    "def question_4():\n",
    "    print(\"\\nH2O =.\") \n",
    "    answer = input()\n",
    "    q4 = [\"Water\",\"water\"]\n",
    "    if answer in q4:\n",
    "        question_5()\n",
    "    else:\n",
    "        question_4()\n",
    "\n",
    "def question_5():\n",
    "    print(\"\\nNo =.\") \n",
    "    answer = input()\n",
    "    q5 = [\"Yes\",\"yes\"]\n",
    "    if answer in q5:\n",
    "        question_6()\n",
    "    else:\n",
    "        question_5()\n",
    "        \n",
    "def question_6():\n",
    "    print(\"\\nI Will Be Back =.\") \n",
    "    answer = input()\n",
    "    q6 = [\"Terminator\",\"terminator\"]\n",
    "    if answer in q6:\n",
    "        question_7()\n",
    "    else:\n",
    "        question_6()\n",
    "        \n",
    "def question_7():\n",
    "    print(\"\\nWhat is Realy Misin =.\") \n",
    "    answer = input()\n",
    "    q7 = [\"lsg\"]\n",
    "    if answer in q7:\n",
    "        question_8()\n",
    "    else:\n",
    "        question_7()"
   ]
  },
  {
   "cell_type": "markdown",
   "id": "a236fcaa",
   "metadata": {},
   "source": [
    "# Rock, Paper, Sissors"
   ]
  },
  {
   "cell_type": "code",
   "execution_count": null,
   "id": "1501f975",
   "metadata": {},
   "outputs": [],
   "source": [
    "import random\n",
    "\n",
    "choices = [\"Rock\",\"Paper\",\"Scissors\"]\n",
    "computer = random.choice(choices)\n",
    "player = False\n",
    "cpu_score = 0\n",
    "player_score = 0\n",
    "\n",
    "while True:\n",
    "    player = input(\"\\nRock, Paper or  Scissors?\").capitalize()\n",
    "    ## Conditions of Rock,Paper and Scissors\n",
    "    if player == computer:\n",
    "        print(\"Tie!\")\n",
    "    elif player == \"Rock\":\n",
    "        if computer == \"Paper\":\n",
    "            print(\"You lose!\", computer, \"covers\", player)\n",
    "            cpu_score+=1\n",
    "        else:\n",
    "            print(\"You win!\", player, \"smashes\", computer)\n",
    "            player_score+=1\n",
    "    elif player == \"Paper\":\n",
    "        if computer == \"Scissors\":\n",
    "            print(\"You lose!\", computer, \"cut\", player)\n",
    "            cpu_score+=1\n",
    "        else:\n",
    "            print(\"You win!\", player, \"covers\", computer)\n",
    "            player_score+=1\n",
    "    elif player == \"Scissors\":\n",
    "        if computer == \"Rock\":\n",
    "            print(\"You lose...\", computer, \"smashes\", player)\n",
    "            cpu_score+=1\n",
    "        else:\n",
    "            print(\"You win!\", player, \"cut\", computer)\n",
    "            player_score+=1\n",
    "    elif player=='End':\n",
    "        print(\"Final Scores:\")\n",
    "        print(f\"CPU:{cpu_score}\")\n",
    "        print(f\"Plaer:{player_score}\")\n",
    "        break"
   ]
  },
  {
   "cell_type": "markdown",
   "id": "231a8375",
   "metadata": {},
   "source": [
    "# Edge Detection "
   ]
  },
  {
   "cell_type": "code",
   "execution_count": 1,
   "id": "610479fc",
   "metadata": {},
   "outputs": [
    {
     "data": {
      "image/png": "[encoded data removed]",
      "text/plain": [
       "<Figure size 432x288 with 1 Axes>"
      ]
     },
     "metadata": {
      "needs_background": "light"
     },
     "output_type": "display_data"
    }
   ],
   "source": [
    "import cv2\n",
    "import numpy as np\n",
    "import matplotlib.pyplot as plt\n",
    "\n",
    "# Read the image\n",
    "\n",
    "image = cv2.imread(r'C:\\Users\\jni\\Desktop\\flower.jpg')\n",
    "\n",
    "# Convert to grayscale\n",
    "\n",
    "gray = cv2.cvtColor(image, cv2.COLOR_BGR2GRAY)\n",
    "\n",
    "# show the grayscale image\n",
    "plt.imshow(gray, cmap=\"gray\")\n",
    "plt.show()\n",
    "\n",
    "# perform the canny edge detector to detect image edges\n",
    "edges = cv2.Canny(gray, threshold1=30, threshold2=100)"
   ]
  },
  {
   "cell_type": "code",
   "execution_count": null,
   "id": "bc98cf50",
   "metadata": {},
   "outputs": [],
   "source": [
    "import numpy as np\n",
    "import cv2\n",
    "\n",
    "cap = cv2.VideoCapture(0)\n",
    "\n",
    "while True:\n",
    "    _, frame = cap.read()\n",
    "    gray = cv2.cvtColor(frame, cv2.COLOR_BGR2GRAY)\n",
    "    edges = cv2.Canny(gray, 30, 100)\n",
    "    cv2.imshow(\"edges\", edges)\n",
    "    cv2.imshow(\"gray\", gray)\n",
    "    if cv2.waitKey(1) == ord(\"q\"):\n",
    "        break\n",
    "\n",
    "cap.release()\n",
    "cv2.destroyAllWindows()\n"
   ]
  },
  {
   "cell_type": "markdown",
   "id": "d215ab83",
   "metadata": {},
   "source": [
    "# Calendar Application"
   ]
  },
  {
   "cell_type": "code",
   "execution_count": 17,
   "id": "07f9c2ce",
   "metadata": {},
   "outputs": [],
   "source": [
    "import calendar\n",
    "from tkinter import *\n",
    "\n",
    "def showCalenar():\n",
    "    gui = Tk()\n",
    "    gui.config(background = 'grey')\n",
    "    gui.title(\"Calendar for the year\")\n",
    "    gui.geometry(\"600x600\")\n",
    "    year = int(year_field.get())\n",
    "    gui_content = calendar.calendar(year)\n",
    "    calYear = Label(gui, text = gui_content, font=(\"Courier New\", 10, \"bold\"))\n",
    "    calYear.grid(row = 5, column = 1, padx = 40)\n",
    "    gui.mainloop()\n",
    "    \n",
    "if __name__=='__main__':\n",
    "    new = Tk()\n",
    "    new.config(background='grey')\n",
    "    new.title(\"Calender\")\n",
    "    new.geometry(\"250x140\")\n",
    "    cal = Label(new, text=\"Calender\",bg='grey',font=(\"times\", 28, \"bold\"))\n",
    "    #Label for enter year\n",
    "    year = Label(new, text=\"Enter year\", bg='dark grey')\n",
    "    #text box for year input\n",
    "    year_field=Entry(new)\n",
    "    button = Button(new, text='Show Calender',fg='Black',bg='Blue',command=showCalenar)\n",
    "    \n",
    "    #adjusting widgets in position\n",
    "    cal.grid(row=1, column=1)\n",
    "    year.grid(row=2, column=1)\n",
    "    year_field.grid(row=3, column=1)\n",
    "    button.grid(row=4, column=1)\n",
    "    #Exit.grid(row=6, column=1)\n",
    "    new.mainloop()"
   ]
  },
  {
   "cell_type": "markdown",
   "id": "d776f714",
   "metadata": {},
   "source": [
    "# Riddle App"
   ]
  },
  {
   "cell_type": "code",
   "execution_count": 1,
   "id": "202b1278",
   "metadata": {},
   "outputs": [],
   "source": [
    "import time\n",
    "from tkinter import *\n",
    "\n",
    "def start():\n",
    "  # give some prompts.\n",
    "    print(\"Welcome Player.\")\n",
    "    print(\"Do you wish to proceed? (y or n)\")\n",
    "    time.sleep(2)\n",
    "  # convert the player's input() to lower_case\n",
    "    answer = input(\">\").lower()\n",
    "\n",
    "    if \"y\" in answer:\n",
    "        question_1()\n",
    "    elif \"n\" in answer:\n",
    "    # else if player typed \"right\" or \"d\" lead him to decline_cookie()\n",
    "        game_over(\"Maybe next time\")\n",
    "    else:\n",
    "    # else call game_over() function with the \"reason\" argument\n",
    "        game_over(\"Don't you know how to type something properly?\")\n",
    "def game_over(reason):\n",
    "    # print the \"reason\" in a new line (\\n)\n",
    "    print(\"\\n\" + reason)\n",
    "    print(\"Game Over!\")\n",
    "  # ask player to play again or not by activating play_again() function\n",
    "    play_again()\n",
    "  # function to ask play again or not\n",
    "\n",
    "def play_again():\n",
    "    print(\"\\nDo you want to play again? (y or n)\")\n",
    "  # convert the player's input to lower_case\n",
    "    answer = input(\">\").lower()\n",
    "    if \"y\" in answer:\n",
    "    # if player typed \"yes\" or \"y\" start the game from the beginning\n",
    "        start()\n",
    "    else:\n",
    "    # if user types anything besides \"yes\" or \"y\", exit() the program\n",
    "        exit()\n",
    "\n",
    "def question_1():\n",
    "    print(\"\\nWhat is your name?\")\n",
    "    answer = input()\n",
    "    question_2()\n",
    "    \n",
    "def question_2():\n",
    "    print(\"\\n1+1=.\") \n",
    "    answer = input()\n",
    "    q2 = [\"2\", \"Two\", \"two\"]\n",
    "    if answer in q2:\n",
    "        question_3()\n",
    "    else:\n",
    "        question_2()\n",
    "        \n",
    "def question_3():\n",
    "    print(\"\\nBlue + Yellow =.\") \n",
    "    answer = input()\n",
    "    q3 = [\"Green\",\"green\"]\n",
    "    if answer in q3:\n",
    "        question_4()\n",
    "    else:\n",
    "        question_3()\n",
    "        \n",
    "def question_4():\n",
    "    print(\"\\nH2O =.\") \n",
    "    answer = input()\n",
    "    q4 = [\"Water\",\"water\"]\n",
    "    if answer in q4:\n",
    "        question_5()\n",
    "    else:\n",
    "        question_4()\n",
    "\n",
    "def question_5():\n",
    "    print(\"\\nNo =.\") \n",
    "    answer = input()\n",
    "    q5 = [\"Yes\",\"yes\"]\n",
    "    if answer in q5:\n",
    "        question_6()\n",
    "    else:\n",
    "        question_5()\n",
    "        \n",
    "def question_6():\n",
    "    print(\"\\nI Will Be Back =.\") \n",
    "    answer = input()\n",
    "    q6 = [\"Terminator\",\"terminator\"]\n",
    "    if answer in q6:\n",
    "        question_7()\n",
    "    else:\n",
    "        question_6()\n",
    "        \n",
    "def question_7():\n",
    "    print(\"\\nWhat is Realy Misin =.\") \n",
    "    answer = input()\n",
    "    q7 = [\"lsg\"]\n",
    "    if answer in q7:\n",
    "        question_8()\n",
    "    else:\n",
    "        question_7()\n",
    "        \n",
    "if __name__=='__main__':\n",
    "    new = Tk()\n",
    "    new.config(background='grey')\n",
    "    new.title(\"Riddle\")\n",
    "    new.geometry(\"250x140\")\n",
    "    cal = Label(new, text=\"Riddle\",bg='grey',font=(\"times\", 28, \"bold\"))\n",
    "    #Label for enter year\n",
    "    year = Label(new, text=\"Enter Answer\", bg='dark grey')\n",
    "    #text box for year input\n",
    "    year_field=Entry(new)\n",
    "    button = Button(new, text='Submit',fg='Black',bg='Blue',command=)\n",
    "    \n",
    "    #adjusting widgets in position\n",
    "    cal.grid(row=1, column=1)\n",
    "    year.grid(row=2, column=1)\n",
    "    year_field.grid(row=3, column=1)\n",
    "    button.grid(row=4, column=1)\n",
    "    #Exit.grid(row=6, column=1)\n",
    "    new.mainloop()"
   ]
  },
  {
   "cell_type": "markdown",
   "id": "3c16ea02",
   "metadata": {},
   "source": [
    "# Random Story Generator"
   ]
  },
  {
   "cell_type": "code",
   "execution_count": 8,
   "id": "f192d4af",
   "metadata": {},
   "outputs": [
    {
     "name": "stdout",
     "output_type": "stream",
     "text": [
      "A long time ago, a rabbit that lived in Barcelona, went to the university and solved a mistery\n"
     ]
    }
   ],
   "source": [
    "import random\n",
    "when = ['A few years ago', 'Yesterday', 'Last night', 'A long time ago','On 20th Jan']\n",
    "who = ['a rabbit', 'an elephant', 'a mouse', 'a turtle','a cat']\n",
    "name = ['Ali', 'Miriam','daniel', 'Hoouk', 'Starwalker']\n",
    "residence = ['Barcelona','India', 'Germany', 'Venice', 'England']\n",
    "went = ['cinema', 'university','seminar', 'school', 'laundry']\n",
    "happened = ['made a lot of friends','Eats a burger', 'found a secret key', 'solved a mistery', 'wrote a book']\n",
    "print(random.choice(when) + ', ' + random.choice(who) + ' that lived in ' + random.choice(residence) + ', went to the ' + random.choice(went) + ' and ' + random.choice(happened))"
   ]
  },
  {
   "cell_type": "markdown",
   "id": "7a97be3f",
   "metadata": {},
   "source": [
    "# Quiz Game"
   ]
  },
  {
   "cell_type": "code",
   "execution_count": 9,
   "id": "7efc0902",
   "metadata": {},
   "outputs": [
    {
     "name": "stdout",
     "output_type": "stream",
     "text": [
      "Guess the Animal\n",
      "Which bear lives at the North Pole? polar bear\n",
      "Correct Answer\n",
      "Which is the fastest land animal? cheetah\n",
      "Correct Answer\n",
      "Which is the larget animal? whale\n",
      "Sorry Wrong Answer, try againblue whale\n",
      "Correct Answer\n",
      "Your Score is 3\n"
     ]
    }
   ],
   "source": [
    "def check_guess(guess, answer):\n",
    "    global score\n",
    "    still_guessing = True\n",
    "    attempt = 0\n",
    "    while still_guessing and attempt < 3:\n",
    "        if guess.lower() == answer.lower():\n",
    "            print(\"Correct Answer\")\n",
    "            score = score + 1\n",
    "            still_guessing = False\n",
    "        else:\n",
    "            if attempt < 2:\n",
    "                guess = input(\"Sorry Wrong Answer, try again\")\n",
    "            attempt = attempt + 1\n",
    "    if attempt == 3:\n",
    "        print(\"The Correct answer is \",answer )\n",
    "    \n",
    "score = 0\n",
    "print(\"Guess the Animal\")\n",
    "guess1 = input(\"Which bear lives at the North Pole? \")\n",
    "check_guess(guess1, \"polar bear\")\n",
    "guess2 = input(\"Which is the fastest land animal? \")\n",
    "check_guess(guess2, \"Cheetah\")\n",
    "guess3 = input(\"Which is the larget animal? \")\n",
    "check_guess(guess3, \"Blue Whale\")\n",
    "print(\"Your Score is \"+ str(score))"
   ]
  },
  {
   "cell_type": "markdown",
   "id": "2a438140",
   "metadata": {},
   "source": [
    "# Rock, Paper, Sissor"
   ]
  },
  {
   "cell_type": "code",
   "execution_count": 11,
   "id": "1ab787c6",
   "metadata": {},
   "outputs": [
    {
     "name": "stdout",
     "output_type": "stream",
     "text": [
      "Rock, Paper or  Scissors?Rock\n",
      "You lose! Paper covers Rock\n",
      "Rock, Paper or  Scissors?Paper\n",
      "Tie!\n",
      "Rock, Paper or  Scissors?Paper\n",
      "Tie!\n",
      "Rock, Paper or  Scissors?end\n",
      "Final Scores:\n",
      "CPU:1\n",
      "Plaer:0\n"
     ]
    }
   ],
   "source": [
    "import random\n",
    "choices = [\"Rock\", \"Paper\", \"Scissors\"]\n",
    "computer = random.choice(choices)\n",
    "player = False\n",
    "cpu_score = 0\n",
    "player_score = 0\n",
    "while True:\n",
    "    player = input(\"Rock, Paper or  Scissors?\").capitalize()\n",
    "    ## Conditions of Rock,Paper and Scissors\n",
    "    if player == computer:\n",
    "        print(\"Tie!\")\n",
    "    elif player == \"Rock\":\n",
    "        if computer == \"Paper\":\n",
    "            print(\"You lose!\", computer, \"covers\", player)\n",
    "            cpu_score+=1\n",
    "        else:\n",
    "            print(\"You win!\", player, \"smashes\", computer)\n",
    "            player_score+=1\n",
    "    elif player == \"Paper\":\n",
    "        if computer == \"Scissors\":\n",
    "            print(\"You lose!\", computer, \"cut\", player)\n",
    "            cpu_score+=1\n",
    "        else:\n",
    "            print(\"You win!\", player, \"covers\", computer)\n",
    "            player_score+=1\n",
    "    elif player == \"Scissors\":\n",
    "        if computer == \"Rock\":\n",
    "            print(\"You lose...\", computer, \"smashes\", player)\n",
    "            cpu_score+=1\n",
    "        else:\n",
    "            print(\"You win!\", player, \"cut\", computer)\n",
    "            player_score+=1\n",
    "    elif player=='End':\n",
    "        print(\"Final Scores:\")\n",
    "        print(f\"CPU:{cpu_score}\")\n",
    "        print(f\"Plaer:{player_score}\")\n",
    "        break"
   ]
  },
  {
   "cell_type": "markdown",
   "id": "b57eecda",
   "metadata": {},
   "source": [
    "# Finding the square root of any number"
   ]
  },
  {
   "cell_type": "code",
   "execution_count": 1,
   "id": "e98f72b1",
   "metadata": {},
   "outputs": [],
   "source": [
    "x = 25\n",
    "epslion = .0001\n",
    "numGuesses = 0\n",
    "ans = 0.0"
   ]
  },
  {
   "cell_type": "code",
   "execution_count": 2,
   "id": "bf15544c",
   "metadata": {},
   "outputs": [
    {
     "name": "stdout",
     "output_type": "stream",
     "text": [
      "Number of gusses = 500000\n",
      "4.999999999979879 is close to the sqare root of  25\n"
     ]
    }
   ],
   "source": [
    "while abs(ans ** 2 - x) >= epslion and ans <= x:\n",
    "    ans += .00001\n",
    "    numGuesses += 1\n",
    "print('Number of gusses =',numGuesses)\n",
    "if abs(ans**2 - x) >= epslion:\n",
    "    print('Failed on squart root of ', x)\n",
    "else:\n",
    "    print(ans, 'is close to the sqare root of ',x)"
   ]
  },
  {
   "cell_type": "markdown",
   "id": "34b42325",
   "metadata": {},
   "source": [
    "### Finding the square root of any number with bisection search"
   ]
  },
  {
   "cell_type": "code",
   "execution_count": 12,
   "id": "6824049a",
   "metadata": {},
   "outputs": [],
   "source": [
    "x = 12345.0\n",
    "epslion = .01\n",
    "numGuesses = 0\n",
    "high = x\n",
    "low = 0.0\n",
    "ans = (high + low)/2.0"
   ]
  },
  {
   "cell_type": "code",
   "execution_count": 13,
   "id": "32394e3e",
   "metadata": {},
   "outputs": [
    {
     "name": "stdout",
     "output_type": "stream",
     "text": [
      "numGuesses = 26\n",
      "111.1080764606595 is close to square root of  12345.0\n"
     ]
    }
   ],
   "source": [
    "while abs(ans ** 2 - x) >= epslion and ans <= x:\n",
    "    numGuesses += 1\n",
    "    if ans**2 < x:\n",
    "        low = ans\n",
    "    else:\n",
    "        high = ans\n",
    "    ans = (high + low)/2.0\n",
    "print('numGuesses =', numGuesses)\n",
    "print(ans, 'is close to square root of ', x)"
   ]
  },
  {
   "cell_type": "markdown",
   "id": "96f3260d",
   "metadata": {},
   "source": [
    "# Insert List"
   ]
  },
  {
   "cell_type": "code",
   "execution_count": 27,
   "id": "4eed79a7",
   "metadata": {},
   "outputs": [
    {
     "data": {
      "text/plain": [
       "4"
      ]
     },
     "execution_count": 27,
     "metadata": {},
     "output_type": "execute_result"
    }
   ],
   "source": [
    "nums = [1,3,5,6]\n",
    "target = 7\n",
    "def searchIntsert(nums, target):\n",
    "    low = 0\n",
    "    high = len(nums) - 1\n",
    "    mid = 0\n",
    "    while low <= high:\n",
    "        mid = low + (high - low)/2\n",
    "        mid = int(mid)\n",
    "        if nums[mid] == target:\n",
    "            return mid\n",
    "        elif nums[mid] < target:\n",
    "            low = mid + 1\n",
    "            ans = low\n",
    "        else:\n",
    "            high = mid - 1\n",
    "            ans = high\n",
    "    return ans\n",
    "searchIntsert(nums, target)"
   ]
  }
 ],
 "metadata": {
  "kernelspec": {
   "display_name": "Python 3",
   "language": "python",
   "name": "python3"
  },
  "language_info": {
   "codemirror_mode": {
    "name": "ipython",
    "version": 3
   },
   "file_extension": ".py",
   "mimetype": "text/x-python",
   "name": "python",
   "nbconvert_exporter": "python",
   "pygments_lexer": "ipython3",
   "version": "3.8.8"
  }
 },
 "nbformat": 4,
 "nbformat_minor": 5
}
